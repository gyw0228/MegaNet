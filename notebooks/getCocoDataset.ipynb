{
 "cells": [
  {
   "cell_type": "markdown",
   "metadata": {},
   "source": [
    "# How to train a neural network in Tensorflow on the COCO dataset\n",
    "\n",
    "** First, download the Python API: **\n",
    "\n",
    "Clone the this git directory to your local machine: https://github.com/pdollar/coco. Then run the \"make\" command from within the PythonAPI folder. To run this notebook, you'll need the packages below as well (matplotlib, numpy, scikit-image, pylab)"
   ]
  },
  {
   "cell_type": "code",
   "execution_count": 1,
   "metadata": {
    "collapsed": false
   },
   "outputs": [],
   "source": [
    "%matplotlib inline\n",
    "from pycocotools.coco import COCO\n",
    "import numpy as np\n",
    "import random\n",
    "import skimage.io as io\n",
    "import matplotlib.pyplot as plt\n",
    "import pylab\n",
    "import tensorflow as tf\n",
    "pylab.rcParams['figure.figsize'] = (10.0, 8.0)"
   ]
  },
  {
   "cell_type": "markdown",
   "metadata": {},
   "source": [
    "# Download the labels\n",
    "\n",
    "** You don't actually have to download all the images to your computer. just download the relevant annotation files from here: http://mscoco.org/dataset/#download **\n",
    "\n",
    "For example, my project deals only with human keypoint estimation, so I only downloaded the 2014 Train/Val person keypoints file and the 2015 test data. If you're not sure what you want to do, just download all of the annotation files.\n",
    "\n",
    "** Your directory structure should look like this: **\n",
    "\n",
    "```\n",
    "<PATH_TO_MY_COCO_REPOSITORY>/coco/images/ ...{Images should go here}...\n",
    "```\n",
    "```\n",
    "<PATH_TO_MY_COCO_REPOSITORY>/coco/annotations/ ...{annotation files should go here}...\n",
    "```\n"
   ]
  },
  {
   "cell_type": "markdown",
   "metadata": {},
   "source": [
    "# Initialize the COCO class"
   ]
  },
  {
   "cell_type": "code",
   "execution_count": 5,
   "metadata": {
    "collapsed": false
   },
   "outputs": [
    {
     "name": "stdout",
     "output_type": "stream",
     "text": [
      "/Users/kyle/Repositories/coco/annotations/person_keypoints_train2014.json\n",
      "/Users/kyle/Repositories/coco/annotations/person_keypoints_val2014.json\n",
      "/Users/kyle/Repositories/coco/annotations/image_info_test_dev2015.json\n",
      "/Users/kyle/Repositories/coco/images/train2014\n",
      "/Users/kyle/Repositories/coco/images/val2014\n",
      "/Users/kyle/Repositories/coco/images/dev2015\n",
      "loading annotations into memory...\n"
     ]
    },
    {
     "ename": "FileNotFoundError",
     "evalue": "[Errno 2] No such file or directory: '/Users/kyle/Repositories/coco/annotations/image_info_test_dev2015.json'",
     "output_type": "error",
     "traceback": [
      "\u001b[0;31m---------------------------------------------------------------------------\u001b[0m",
      "\u001b[0;31mFileNotFoundError\u001b[0m                         Traceback (most recent call last)",
      "\u001b[0;32m<ipython-input-5-2acd9a885170>\u001b[0m in \u001b[0;36m<module>\u001b[0;34m()\u001b[0m\n\u001b[1;32m     26\u001b[0m \u001b[0;34m\u001b[0m\u001b[0m\n\u001b[1;32m     27\u001b[0m \u001b[0;31m# initialize a coco object\u001b[0m\u001b[0;34m\u001b[0m\u001b[0;34m\u001b[0m\u001b[0m\n\u001b[0;32m---> 28\u001b[0;31m \u001b[0mcoco\u001b[0m \u001b[0;34m=\u001b[0m \u001b[0mCOCO\u001b[0m\u001b[0;34m(\u001b[0m\u001b[0mannTestFile\u001b[0m\u001b[0;34m)\u001b[0m\u001b[0;34m\u001b[0m\u001b[0m\n\u001b[0m",
      "\u001b[0;32m/Users/kyle/Repositories/coco/PythonAPI/pycocotools/coco.py\u001b[0m in \u001b[0;36m__init__\u001b[0;34m(self, annotation_file)\u001b[0m\n\u001b[1;32m     77\u001b[0m             \u001b[0mprint\u001b[0m\u001b[0;34m(\u001b[0m\u001b[0;34m'loading annotations into memory...'\u001b[0m\u001b[0;34m)\u001b[0m\u001b[0;34m\u001b[0m\u001b[0m\n\u001b[1;32m     78\u001b[0m             \u001b[0mtic\u001b[0m \u001b[0;34m=\u001b[0m \u001b[0mtime\u001b[0m\u001b[0;34m.\u001b[0m\u001b[0mtime\u001b[0m\u001b[0;34m(\u001b[0m\u001b[0;34m)\u001b[0m\u001b[0;34m\u001b[0m\u001b[0m\n\u001b[0;32m---> 79\u001b[0;31m             \u001b[0mdataset\u001b[0m \u001b[0;34m=\u001b[0m \u001b[0mjson\u001b[0m\u001b[0;34m.\u001b[0m\u001b[0mload\u001b[0m\u001b[0;34m(\u001b[0m\u001b[0mopen\u001b[0m\u001b[0;34m(\u001b[0m\u001b[0mannotation_file\u001b[0m\u001b[0;34m,\u001b[0m \u001b[0;34m'r'\u001b[0m\u001b[0;34m)\u001b[0m\u001b[0;34m)\u001b[0m\u001b[0;34m\u001b[0m\u001b[0m\n\u001b[0m\u001b[1;32m     80\u001b[0m             \u001b[0;32massert\u001b[0m \u001b[0mtype\u001b[0m\u001b[0;34m(\u001b[0m\u001b[0mdataset\u001b[0m\u001b[0;34m)\u001b[0m\u001b[0;34m==\u001b[0m\u001b[0mdict\u001b[0m\u001b[0;34m,\u001b[0m \u001b[0;34m'annotation file format {} not supported'\u001b[0m\u001b[0;34m.\u001b[0m\u001b[0mformat\u001b[0m\u001b[0;34m(\u001b[0m\u001b[0mtype\u001b[0m\u001b[0;34m(\u001b[0m\u001b[0mdataset\u001b[0m\u001b[0;34m)\u001b[0m\u001b[0;34m)\u001b[0m\u001b[0;34m\u001b[0m\u001b[0m\n\u001b[1;32m     81\u001b[0m             \u001b[0mprint\u001b[0m\u001b[0;34m(\u001b[0m\u001b[0;34m'Done (t={:0.2f}s)'\u001b[0m\u001b[0;34m.\u001b[0m\u001b[0mformat\u001b[0m\u001b[0;34m(\u001b[0m\u001b[0mtime\u001b[0m\u001b[0;34m.\u001b[0m\u001b[0mtime\u001b[0m\u001b[0;34m(\u001b[0m\u001b[0;34m)\u001b[0m\u001b[0;34m-\u001b[0m \u001b[0mtic\u001b[0m\u001b[0;34m)\u001b[0m\u001b[0;34m)\u001b[0m\u001b[0;34m\u001b[0m\u001b[0m\n",
      "\u001b[0;31mFileNotFoundError\u001b[0m: [Errno 2] No such file or directory: '/Users/kyle/Repositories/coco/annotations/image_info_test_dev2015.json'"
     ]
    }
   ],
   "source": [
    "# define the path to the annotation file corresponding to the images you want to work with\n",
    "baseDir='/Users/kyle/Repositories/coco'\n",
    "\n",
    "trainAnnDir='person_keypoints_train2014'\n",
    "valAnnDir='person_keypoints_val2014'\n",
    "testAnnDir='image_info_test_dev2015'\n",
    "\n",
    "trainDir='train2014'\n",
    "valDir='val2014'\n",
    "testDir='dev2015'\n",
    "\n",
    "annTrainFile='{}/annotations/{}.json'.format(baseDir,trainAnnDir)\n",
    "annValFile='{}/annotations/{}.json'.format(baseDir,valAnnDir)\n",
    "annTestFile='{}/annotations/{}.json'.format(baseDir,testAnnDir)\n",
    "\n",
    "imageTrainFolder='{}/images/{}'.format(baseDir,trainDir)\n",
    "imageValFolder='{}/images/{}'.format(baseDir,valDir)\n",
    "imageTestFolder='{}/images/{}'.format(baseDir,testDir)\n",
    "\n",
    "print(annTrainFile)\n",
    "print(annValFile)\n",
    "print(annTestFile)\n",
    "print(imageTrainFolder)\n",
    "print(imageValFolder)\n",
    "print(imageTestFolder)\n",
    "\n",
    "# initialize a coco object\n",
    "coco = COCO(annTestFile)"
   ]
  },
  {
   "cell_type": "markdown",
   "metadata": {},
   "source": [
    "# Extract the appropriate images\n",
    "\n",
    "** Now that we have downloaded the labels and initialialized a COCO object, we can examine the organizational structure of the dataset and specify specific categories of images to download  ** "
   ]
  },
  {
   "cell_type": "code",
   "execution_count": 3,
   "metadata": {
    "collapsed": false
   },
   "outputs": [],
   "source": [
    "# get all images containing the 'person' category\n",
    "catIds = coco.getCatIds(catNms=['person'])\n",
    "imgIds = coco.getImgIds(catIds=catIds)"
   ]
  },
  {
   "cell_type": "code",
   "execution_count": 4,
   "metadata": {
    "collapsed": false
   },
   "outputs": [
    {
     "data": {
      "text/plain": [
       "(21634, 40504)"
      ]
     },
     "execution_count": 4,
     "metadata": {},
     "output_type": "execute_result"
    }
   ],
   "source": [
    "len(imgIds),len(coco.imgs)\n",
    "# Note: There are exactly 82783 pictures in the train_2014 folder on Google cloud. Just need to parse them."
   ]
  },
  {
   "cell_type": "markdown",
   "metadata": {},
   "source": [
    "### Download a few images - you don't have to do this yet \n",
    "In my case, I'm just downloading a few to check that things are working"
   ]
  },
  {
   "cell_type": "code",
   "execution_count": 9,
   "metadata": {
    "collapsed": false,
    "scrolled": true
   },
   "outputs": [
    {
     "name": "stdout",
     "output_type": "stream",
     "text": [
      "downloaded 0/50 images (t=1.1s)\n",
      "downloaded 1/50 images (t=0.9s)\n",
      "downloaded 2/50 images (t=0.8s)\n",
      "downloaded 3/50 images (t=1.0s)\n",
      "downloaded 4/50 images (t=1.2s)\n",
      "downloaded 5/50 images (t=0.9s)\n",
      "downloaded 6/50 images (t=0.8s)\n",
      "downloaded 7/50 images (t=0.8s)\n",
      "downloaded 8/50 images (t=0.8s)\n",
      "downloaded 9/50 images (t=0.9s)\n",
      "downloaded 10/50 images (t=1.1s)\n",
      "downloaded 11/50 images (t=1.9s)\n",
      "downloaded 12/50 images (t=1.5s)\n",
      "downloaded 13/50 images (t=0.9s)\n",
      "downloaded 14/50 images (t=0.9s)\n",
      "downloaded 15/50 images (t=0.8s)\n",
      "downloaded 16/50 images (t=0.9s)\n",
      "downloaded 17/50 images (t=1.1s)\n",
      "downloaded 18/50 images (t=0.8s)\n",
      "downloaded 19/50 images (t=0.9s)\n",
      "downloaded 20/50 images (t=0.8s)\n",
      "downloaded 21/50 images (t=1.0s)\n",
      "downloaded 22/50 images (t=1.0s)\n",
      "downloaded 23/50 images (t=0.8s)\n",
      "downloaded 24/50 images (t=0.8s)\n",
      "downloaded 25/50 images (t=0.8s)\n",
      "downloaded 26/50 images (t=0.8s)\n",
      "downloaded 27/50 images (t=0.7s)\n",
      "downloaded 28/50 images (t=1.7s)\n",
      "downloaded 29/50 images (t=1.0s)\n",
      "downloaded 30/50 images (t=0.7s)\n",
      "downloaded 31/50 images (t=0.8s)\n",
      "downloaded 32/50 images (t=0.9s)\n",
      "downloaded 33/50 images (t=0.9s)\n",
      "downloaded 34/50 images (t=0.8s)\n",
      "downloaded 35/50 images (t=0.7s)\n",
      "downloaded 36/50 images (t=1.1s)\n",
      "downloaded 37/50 images (t=0.9s)\n",
      "downloaded 38/50 images (t=0.9s)\n",
      "downloaded 39/50 images (t=0.8s)\n",
      "downloaded 40/50 images (t=0.9s)\n",
      "downloaded 41/50 images (t=0.9s)\n",
      "downloaded 42/50 images (t=0.9s)\n",
      "downloaded 43/50 images (t=1.9s)\n",
      "downloaded 44/50 images (t=0.8s)\n",
      "downloaded 45/50 images (t=0.9s)\n",
      "downloaded 46/50 images (t=0.8s)\n",
      "downloaded 47/50 images (t=0.8s)\n",
      "downloaded 48/50 images (t=0.9s)\n",
      "downloaded 49/50 images (t=1.0s)\n"
     ]
    }
   ],
   "source": [
    "# specify a target directory (images should go in /coco/images/... )\n",
    "someKeys = imgIds[0:50]\n",
    "\n",
    "dataDir = '/Users/kyle/Repositories/coco'\n",
    "dataType = 'val2014'\n",
    "imagePath = '{}/images/{}'.format(dataDir,dataType)\n",
    "\n",
    "coco.download(tarDir=imagePath,imgIds=someKeys)"
   ]
  },
  {
   "cell_type": "code",
   "execution_count": 326,
   "metadata": {
    "collapsed": false
   },
   "outputs": [],
   "source": [
    "filenames = tf.constant(['{}/COCO_train2014_{:0>12}.jpg'.format(imagePath,img_ID) for img_ID in imgIds])\n",
    "\n",
    "filename = '{}/COCO_train2014_{:0>12}.jpg'.format(imagePath,imgIds[0])\n",
    "imgString = tf.read_file(filename)\n",
    "tfIMG = tf.image.decode_jpeg(imgString)"
   ]
  },
  {
   "cell_type": "code",
   "execution_count": 327,
   "metadata": {
    "collapsed": false
   },
   "outputs": [],
   "source": [
    "myIMG, myFiles = sess.run([tfIMG, filenames])\n",
    "# plt.imshow(myIMG)\n",
    "# plt.show()"
   ]
  },
  {
   "cell_type": "code",
   "execution_count": null,
   "metadata": {
    "collapsed": true
   },
   "outputs": [],
   "source": [
    "img['id']"
   ]
  },
  {
   "cell_type": "code",
   "execution_count": 25,
   "metadata": {
    "collapsed": false
   },
   "outputs": [
    {
     "data": {
      "image/png": "[encoded data removed]",
      "text/plain": [
       "<matplotlib.figure.Figure at 0x11fb89208>"
      ]
     },
     "metadata": {},
     "output_type": "display_data"
    }
   ],
   "source": [
    "# load and display image\n",
    "# I = io.imread('%s/images/%s/%s'%(dataDir,dataType,img['file_name']))\n",
    "img = coco.loadImgs(imgIds[np.random.randint(0,len(imgIds))])[0] # select a random image\n",
    "# img = coco.loadImgs(imgIds[np.random.randint(0,100)])[0] # select a random image\n",
    "\n",
    "# img = coco.loadImgs(crowdFinder())[0] # select a random image\n",
    "\n",
    "\n",
    "I = io.imread('http://mscoco.org/images/%d'%(img['id'])) # use url to load image\n",
    "# I = io.imread('{}/COCO_train2014_000000000{}'.format(imagePath,)\n",
    "                           \n",
    "# anns is a list. Each element of anns is a dictionary corresponding to an instance of a person\n",
    "# anns[0]['keypoints'] is a list of (u,v,flag) coordinates. flag: 0=>not included, 1=>occluded, 2=>visible\n",
    "# anns[0]['iscrowd]: 0=>No,1=>Yes\n",
    "\n",
    "# Display image\n",
    "plt.figure(figsize=[16,8])\n",
    "plt.subplot(1,3,1)\n",
    "plt.imshow(I) \n",
    "plt.axis('off')\n",
    "\n",
    "# load and display instance annotations\n",
    "plt.subplot(1,3,2)\n",
    "plt.imshow(I); plt.axis('off')\n",
    "annIds = coco.getAnnIds(imgIds=img['id'], catIds=catIds, iscrowd=None)\n",
    "anns = coco.loadAnns(annIds)\n",
    "coco.showAnns(anns)\n",
    "anns[0]['keypoints'][0:3]\n",
    "\n",
    "# turn segmentation into a mask\n",
    "plt.subplot(1,3,3)\n",
    "bool_mask = coco.annToMask(anns[0])\n",
    "plt.imshow(bool_mask)\n",
    "plt.axis('off')\n",
    "plt.show()"
   ]
  },
  {
   "cell_type": "code",
   "execution_count": 26,
   "metadata": {
    "collapsed": false
   },
   "outputs": [
    {
     "data": {
      "text/plain": [
       "[{'area': 10098.62275,\n",
       "  'bbox': [230.92, 146.38, 159.69, 181.53],\n",
       "  'category_id': 1,\n",
       "  'id': 497976,\n",
       "  'image_id': 246985,\n",
       "  'iscrowd': 0,\n",
       "  'keypoints': [264,\n",
       "   172,\n",
       "   2,\n",
       "   266,\n",
       "   165,\n",
       "   2,\n",
       "   258,\n",
       "   168,\n",
       "   2,\n",
       "   274,\n",
       "   162,\n",
       "   2,\n",
       "   252,\n",
       "   169,\n",
       "   1,\n",
       "   294,\n",
       "   181,\n",
       "   2,\n",
       "   246,\n",
       "   196,\n",
       "   2,\n",
       "   318,\n",
       "   193,\n",
       "   2,\n",
       "   242,\n",
       "   215,\n",
       "   2,\n",
       "   307,\n",
       "   203,\n",
       "   2,\n",
       "   238,\n",
       "   228,\n",
       "   2,\n",
       "   306,\n",
       "   233,\n",
       "   2,\n",
       "   279,\n",
       "   241,\n",
       "   2,\n",
       "   328,\n",
       "   266,\n",
       "   2,\n",
       "   293,\n",
       "   266,\n",
       "   2,\n",
       "   364,\n",
       "   294,\n",
       "   2,\n",
       "   324,\n",
       "   302,\n",
       "   2],\n",
       "  'num_keypoints': 17,\n",
       "  'segmentation': [[334.65,\n",
       "    327.91,\n",
       "    335.11,\n",
       "    320.18,\n",
       "    318.73,\n",
       "    311.08,\n",
       "    295.07,\n",
       "    286.06,\n",
       "    279.15,\n",
       "    259.67,\n",
       "    266.41,\n",
       "    247.84,\n",
       "    252.76,\n",
       "    212.81,\n",
       "    248.67,\n",
       "    222.36,\n",
       "    245.03,\n",
       "    232.37,\n",
       "    245.03,\n",
       "    246.48,\n",
       "    238.2,\n",
       "    245.57,\n",
       "    231.38,\n",
       "    244.2,\n",
       "    233.65,\n",
       "    231.92,\n",
       "    230.92,\n",
       "    214.17,\n",
       "    238.66,\n",
       "    197.79,\n",
       "    239.11,\n",
       "    192.79,\n",
       "    255.49,\n",
       "    180.05,\n",
       "    255.04,\n",
       "    170.5,\n",
       "    249.12,\n",
       "    161.4,\n",
       "    251.85,\n",
       "    152.75,\n",
       "    265.96,\n",
       "    146.38,\n",
       "    276.42,\n",
       "    154.57,\n",
       "    280.06,\n",
       "    160.94,\n",
       "    285.52,\n",
       "    175.05,\n",
       "    301.9,\n",
       "    175.05,\n",
       "    326.92,\n",
       "    194.16,\n",
       "    326.46,\n",
       "    205.53,\n",
       "    314.64,\n",
       "    211.9,\n",
       "    311,\n",
       "    213.26,\n",
       "    314.64,\n",
       "    220.09,\n",
       "    326.01,\n",
       "    244.2,\n",
       "    330.1,\n",
       "    261.03,\n",
       "    361.04,\n",
       "    277.87,\n",
       "    378.33,\n",
       "    293.79,\n",
       "    385.61,\n",
       "    313.35,\n",
       "    390.61,\n",
       "    322.45,\n",
       "    381.06,\n",
       "    322.91,\n",
       "    372.42,\n",
       "    314.26,\n",
       "    358.31,\n",
       "    304.25,\n",
       "    353.31,\n",
       "    299.25,\n",
       "    322.82,\n",
       "    278.32,\n",
       "    308.27,\n",
       "    261.94,\n",
       "    306.45,\n",
       "    268.31,\n",
       "    329.19,\n",
       "    291.52,\n",
       "    342.84,\n",
       "    314.72,\n",
       "    348.3,\n",
       "    324.27]]},\n",
       " {'area': 924.12035,\n",
       "  'bbox': [271.9, 146.49, 37.72, 39.29],\n",
       "  'category_id': 1,\n",
       "  'id': 528043,\n",
       "  'image_id': 246985,\n",
       "  'iscrowd': 0,\n",
       "  'keypoints': [0,\n",
       "   0,\n",
       "   0,\n",
       "   0,\n",
       "   0,\n",
       "   0,\n",
       "   0,\n",
       "   0,\n",
       "   0,\n",
       "   0,\n",
       "   0,\n",
       "   0,\n",
       "   0,\n",
       "   0,\n",
       "   0,\n",
       "   0,\n",
       "   0,\n",
       "   0,\n",
       "   0,\n",
       "   0,\n",
       "   0,\n",
       "   0,\n",
       "   0,\n",
       "   0,\n",
       "   0,\n",
       "   0,\n",
       "   0,\n",
       "   0,\n",
       "   0,\n",
       "   0,\n",
       "   0,\n",
       "   0,\n",
       "   0,\n",
       "   0,\n",
       "   0,\n",
       "   0,\n",
       "   0,\n",
       "   0,\n",
       "   0,\n",
       "   0,\n",
       "   0,\n",
       "   0,\n",
       "   0,\n",
       "   0,\n",
       "   0,\n",
       "   0,\n",
       "   0,\n",
       "   0,\n",
       "   0,\n",
       "   0,\n",
       "   0],\n",
       "  'num_keypoints': 0,\n",
       "  'segmentation': [[271.9,\n",
       "    152.15,\n",
       "    279.75,\n",
       "    150.26,\n",
       "    287.3,\n",
       "    146.49,\n",
       "    296.41,\n",
       "    147.12,\n",
       "    300.19,\n",
       "    155.92,\n",
       "    304.59,\n",
       "    163.15,\n",
       "    309.62,\n",
       "    173.21,\n",
       "    309.62,\n",
       "    182.01,\n",
       "    304.27,\n",
       "    185.78,\n",
       "    285.73,\n",
       "    177.92,\n",
       "    280.38,\n",
       "    175.41]]},\n",
       " {'area': 198.39315,\n",
       "  'bbox': [31.56, 207.46, 24, 21.74],\n",
       "  'category_id': 1,\n",
       "  'id': 528546,\n",
       "  'image_id': 246985,\n",
       "  'iscrowd': 0,\n",
       "  'keypoints': [0,\n",
       "   0,\n",
       "   0,\n",
       "   0,\n",
       "   0,\n",
       "   0,\n",
       "   0,\n",
       "   0,\n",
       "   0,\n",
       "   0,\n",
       "   0,\n",
       "   0,\n",
       "   0,\n",
       "   0,\n",
       "   0,\n",
       "   0,\n",
       "   0,\n",
       "   0,\n",
       "   0,\n",
       "   0,\n",
       "   0,\n",
       "   0,\n",
       "   0,\n",
       "   0,\n",
       "   0,\n",
       "   0,\n",
       "   0,\n",
       "   0,\n",
       "   0,\n",
       "   0,\n",
       "   0,\n",
       "   0,\n",
       "   0,\n",
       "   0,\n",
       "   0,\n",
       "   0,\n",
       "   0,\n",
       "   0,\n",
       "   0,\n",
       "   0,\n",
       "   0,\n",
       "   0,\n",
       "   0,\n",
       "   0,\n",
       "   0,\n",
       "   0,\n",
       "   0,\n",
       "   0,\n",
       "   0,\n",
       "   0,\n",
       "   0],\n",
       "  'num_keypoints': 0,\n",
       "  'segmentation': [[34.06,\n",
       "    227.18,\n",
       "    37.62,\n",
       "    222.55,\n",
       "    40.71,\n",
       "    219.7,\n",
       "    40.12,\n",
       "    217.92,\n",
       "    34.06,\n",
       "    220.89,\n",
       "    31.56,\n",
       "    218.87,\n",
       "    31.92,\n",
       "    217.56,\n",
       "    33.94,\n",
       "    217.32,\n",
       "    39.52,\n",
       "    212.93,\n",
       "    37.74,\n",
       "    210.2,\n",
       "    38.45,\n",
       "    208.18,\n",
       "    40,\n",
       "    207.46,\n",
       "    43.32,\n",
       "    207.46,\n",
       "    44.04,\n",
       "    211.38,\n",
       "    48.91,\n",
       "    216.13,\n",
       "    52.94,\n",
       "    215.9,\n",
       "    55.56,\n",
       "    216.85,\n",
       "    54.37,\n",
       "    217.44,\n",
       "    47.6,\n",
       "    218.15,\n",
       "    46.06,\n",
       "    223.86,\n",
       "    48.07,\n",
       "    226.94,\n",
       "    41.9,\n",
       "    226.94,\n",
       "    41.66,\n",
       "    225.28,\n",
       "    40.35,\n",
       "    225.28,\n",
       "    38.81,\n",
       "    227.66,\n",
       "    32.99,\n",
       "    229.2,\n",
       "    33.94,\n",
       "    227.06]]}]"
      ]
     },
     "execution_count": 26,
     "metadata": {},
     "output_type": "execute_result"
    }
   ],
   "source": [
    "anns"
   ]
  },
  {
   "cell_type": "code",
   "execution_count": 291,
   "metadata": {
    "collapsed": false,
    "scrolled": true
   },
   "outputs": [
    {
     "data": {
      "text/plain": [
       "102655"
      ]
     },
     "execution_count": 291,
     "metadata": {},
     "output_type": "execute_result"
    }
   ],
   "source": [
    "def crowdFinder():\n",
    "    id = None\n",
    "    random.shuffle(imgIds)\n",
    "    for id in imgIds:\n",
    "        annIds = coco.getAnnIds(imgIds=id, catIds=catIds, iscrowd=None)\n",
    "        anns = coco.loadAnns(annIds)\n",
    "        if sum([ann['iscrowd'] for ann in anns]) > 0:\n",
    "            break\n",
    "    return id\n",
    "\n",
    "crowdID = crowdFinder()\n",
    "crowdID"
   ]
  },
  {
   "cell_type": "code",
   "execution_count": 290,
   "metadata": {
    "collapsed": false
   },
   "outputs": [
    {
     "name": "stdout",
     "output_type": "stream",
     "text": [
      "num kp: 51 ----- crowd: 0 ----- seg: 1 ----- bbox: [78.89, 382.98, 82.95, 202.57]\n",
      "num kp: 51 ----- crowd: 0 ----- seg: 1 ----- bbox: [248.11, 402.34, 11.5, 26.9]\n",
      "num kp: 51 ----- crowd: 0 ----- seg: 1 ----- bbox: [311.57, 400.81, 14.71, 35.72]\n",
      "num kp: 51 ----- crowd: 0 ----- seg: 1 ----- bbox: [331.94, 400.97, 10.25, 21.63]\n",
      "num kp: 51 ----- crowd: 0 ----- seg: 1 ----- bbox: [342.08, 407.56, 24.83, 52.25]\n",
      "num kp: 51 ----- crowd: 0 ----- seg: 1 ----- bbox: [381.18, 400.22, 13.1, 30.7]\n",
      "num kp: 51 ----- crowd: 0 ----- seg: 1 ----- bbox: [179.69, 376.69, 78.4, 190.79]\n",
      "num kp: 51 ----- crowd: 0 ----- seg: 1 ----- bbox: [369.96, 401.81, 11.04, 27.47]\n",
      "num kp: 51 ----- crowd: 0 ----- seg: 1 ----- bbox: [253.85, 403.59, 25.13, 52.52]\n",
      "num kp: 51 ----- crowd: 0 ----- seg: 1 ----- bbox: [400.26, 398.37, 7.47, 15.41]\n",
      "num kp: 51 ----- crowd: 0 ----- seg: 1 ----- bbox: [276.83, 402.29, 23.57, 40.87]\n",
      "num kp: 51 ----- crowd: 0 ----- seg: 1 ----- bbox: [161.02, 419.06, 31.73, 78.84]\n",
      "num kp: 51 ----- crowd: 0 ----- seg: 1 ----- bbox: [230.55, 397.74, 34.65, 128.96]\n",
      "num kp: 51 ----- crowd: 1 ----- seg: 2 ----- bbox: [60, 386, 346, 52]\n"
     ]
    }
   ],
   "source": [
    "for ann in anns:\n",
    "    print('num kp:',len(ann['keypoints']),'----- crowd:',ann['iscrowd'],'----- seg:', \n",
    "          len(ann['segmentation']),'----- bbox:',ann['bbox'])"
   ]
  },
  {
   "cell_type": "code",
   "execution_count": null,
   "metadata": {
    "collapsed": false,
    "scrolled": false
   },
   "outputs": [],
   "source": [
    "scale = 0.75\n",
    "\n",
    "for ann in anns:\n",
    "    ann['area'] = ann['area']*scale**2\n",
    "    ann['bbox'] = [i*scale for i in ann['bbox']]\n",
    "    ann['keypoints'] = np.reshape(ann['keypoints'],(-1,3))*np.array([scale, scale, 1])\n",
    "    ann['segmentation'] = ann['segmentation']*scale\n",
    "    "
   ]
  },
  {
   "cell_type": "code",
   "execution_count": null,
   "metadata": {
    "collapsed": false
   },
   "outputs": [],
   "source": [
    "np.reshape(anns[0]['keypoints'],(-1,3))*np.array([.75, .75, 1])"
   ]
  },
  {
   "cell_type": "markdown",
   "metadata": {},
   "source": [
    "# Prepare data to feed into network \n",
    "### Concatenate labels as tensors"
   ]
  },
  {
   "cell_type": "code",
   "execution_count": null,
   "metadata": {
    "collapsed": true
   },
   "outputs": [],
   "source": [
    "def getImage(img_ID)\n",
    "    pass\n",
    "\n",
    "def getAnnotations(img_ID)\n",
    "    pass\n",
    "\n"
   ]
  },
  {
   "cell_type": "code",
   "execution_count": 372,
   "metadata": {
    "collapsed": true
   },
   "outputs": [],
   "source": [
    "# Reads an image from a file, decodes it into a dense tensor, and resizes it\n",
    "# to a fixed shape.\n",
    "def _parse_function(img_ID):\n",
    "    imagePath = '/Users/kyle/Repositories/coco/images/person_keypoints_train2014'\n",
    "    filename = '{}/COCO_train2014_{:0>12}.jpg'.format(imagePath, img_ID)\n",
    "    image_string = tf.read_file(filename)\n",
    "    image_decoded = tf.image.decode_image(image_string)\n",
    "    \n",
    "    # load coco annotations and convert to tensor form\n",
    "    anns = coco.loadAnns(coco.getAnnIds(imgIds=img_ID, catIds=catIds, iscrowd=None))\n",
    "    bbox_tensor = tf.stack([tf.constant(ann['bbox'],dtype=precision) for ann in anns], axis=0)\n",
    "    keypoints_tensor = tf.stack([tf.constant(np.reshape(ann['keypoints'],(-1,3)), dtype=precision) for ann in anns], axis=0)\n",
    "    crowd_tensor = tf.stack([tf.constant([ann['iscrowd']]) for ann in anns],axis=0)\n",
    "    area_tensor = tf.stack([tf.constant([ann['area']],dtype=precision) for ann in anns], axis=0)\n",
    "\n",
    "    mask_tensor = tf.stack([tf.constant(coco.annToMask(ann), dtype=tf.bool) for ann in anns], axis = 0)\n",
    "#     image_resized = tf.image.resize_images(image_decoded, [28, 28])\n",
    "    return image_decoded, bbox_tensor, keypoints_tensor, crowd_tensor, area_tensor, mask_tensor\n",
    "\n",
    "def _get_annotations(imgIDs)\n",
    "\n",
    "imgID_tensor = tf.constant(imgIds)\n",
    "# filenames = tf.constant(['{}/COCO_train2014_{:0>12}.jpg'.format(imagePath,img_ID) for img_ID in imgIds])\n",
    "ann_files = tf.constant(coco.getAnnIds(imgIds))\n",
    "\n",
    "dataset = tf.contrib.data.Dataset.from_tensor_slices((filenames, labels))\n",
    "dataset = dataset.map(_parse_function)"
   ]
  },
  {
   "cell_type": "code",
   "execution_count": null,
   "metadata": {
    "collapsed": true
   },
   "outputs": [],
   "source": []
  },
  {
   "cell_type": "code",
   "execution_count": null,
   "metadata": {
    "collapsed": true
   },
   "outputs": [],
   "source": [
    "myCocoDataset = tf.contrib.datata.Dataset.from_tensor_slices((imgIds))"
   ]
  },
  {
   "cell_type": "code",
   "execution_count": 363,
   "metadata": {
    "collapsed": false
   },
   "outputs": [
    {
     "data": {
      "text/plain": [
       "'/Users/kyle/Repositories/coco/images/person_keypoints_train2014'"
      ]
     },
     "execution_count": 363,
     "metadata": {},
     "output_type": "execute_result"
    }
   ],
   "source": [
    "imagePath"
   ]
  },
  {
   "cell_type": "code",
   "execution_count": 362,
   "metadata": {
    "collapsed": true
   },
   "outputs": [],
   "source": [
    "imgID_tensor = tf.constant(imgIds)"
   ]
  },
  {
   "cell_type": "code",
   "execution_count": 346,
   "metadata": {
    "collapsed": false
   },
   "outputs": [],
   "source": [
    "annotations = coco.getAnnIds(imgIds=imgIds, catIds=catIds, iscrowd=None)\n",
    "# tf.constant(coco.loadAnns(coco.getAnnIds(imgIds=imgIds, catIds=catIds, iscrowd=None)))"
   ]
  },
  {
   "cell_type": "code",
   "execution_count": 354,
   "metadata": {
    "collapsed": false
   },
   "outputs": [],
   "source": [
    "img = coco.loadImgs(imgIds[np.random.randint(0,100)])[0] # select a random image\n",
    "annotations = [coco.getAnnIds(id, catIds=catIds, iscrowd=None) for id in imgIds]"
   ]
  },
  {
   "cell_type": "code",
   "execution_count": null,
   "metadata": {
    "collapsed": false
   },
   "outputs": [],
   "source": [
    "tf.constant(annotations)"
   ]
  },
  {
   "cell_type": "code",
   "execution_count": 345,
   "metadata": {
    "collapsed": false
   },
   "outputs": [
    {
     "data": {
      "text/plain": [
       "<tf.Tensor 'Const_1646:0' shape=(45174,) dtype=string>"
      ]
     },
     "execution_count": 345,
     "metadata": {},
     "output_type": "execute_result"
    }
   ],
   "source": [
    "filenames"
   ]
  },
  {
   "cell_type": "code",
   "execution_count": 335,
   "metadata": {
    "collapsed": false
   },
   "outputs": [],
   "source": [
    "ann_file = allAnns[0]\n",
    "anns = coco.loadAnns(ann_file)"
   ]
  },
  {
   "cell_type": "code",
   "execution_count": 37,
   "metadata": {
    "collapsed": true
   },
   "outputs": [],
   "source": [
    "sess = tf.Session()"
   ]
  },
  {
   "cell_type": "code",
   "execution_count": 27,
   "metadata": {
    "collapsed": false
   },
   "outputs": [],
   "source": [
    "precision = tf.float16\n",
    "\n",
    "bbox_tensor = tf.stack([tf.constant(ann['bbox'],dtype=precision) for ann in anns], axis=0)\n",
    "keypoints_tensor = tf.stack([tf.constant(np.reshape(ann['keypoints'],(-1,3)), dtype=precision) for ann in anns], axis=0)\n",
    "crowd_tensor = tf.stack([tf.constant([ann['iscrowd']]) for ann in anns],axis=0)\n",
    "area_tensor = tf.stack([tf.constant([ann['area']],dtype=precision) for ann in anns], axis=0)\n",
    "mask_tensor = tf.stack([tf.constant(coco.annToMask(ann), dtype=tf.bool) for ann in anns], axis = 0)"
   ]
  },
  {
   "cell_type": "code",
   "execution_count": 29,
   "metadata": {
    "collapsed": false
   },
   "outputs": [
    {
     "data": {
      "text/plain": [
       "((3, 4), (3, 17, 3), (3, 1), (3, 1), (3, 428, 640))"
      ]
     },
     "execution_count": 29,
     "metadata": {},
     "output_type": "execute_result"
    }
   ],
   "source": [
    "sess= tf.Session()\n",
    "bbox, kpts, crowds, areas, masks = sess.run([bbox_tensor, keypoints_tensor, crowd_tensor, area_tensor, mask_tensor])\n",
    "bbox.shape, kpts.shape, crowds.shape, areas.shape, masks.shape"
   ]
  },
  {
   "cell_type": "markdown",
   "metadata": {},
   "source": [
    "### Junk"
   ]
  }
 ],
 "metadata": {
  "kernelspec": {
   "display_name": "Python 3",
   "language": "python",
   "name": "python3"
  },
  "language_info": {
   "codemirror_mode": {
    "name": "ipython",
    "version": 3
   },
   "file_extension": ".py",
   "mimetype": "text/x-python",
   "name": "python",
   "nbconvert_exporter": "python",
   "pygments_lexer": "ipython3",
   "version": "3.5.3"
  }
 },
 "nbformat": 4,
 "nbformat_minor": 2
}
