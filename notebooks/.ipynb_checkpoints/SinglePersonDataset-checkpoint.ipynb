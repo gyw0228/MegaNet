{
 "cells": [
  {
   "cell_type": "code",
   "execution_count": 1,
   "metadata": {
    "collapsed": false
   },
   "outputs": [],
   "source": [
    "%matplotlib inline\n",
    "from pycocotools.coco import COCO\n",
    "import numpy as np\n",
    "import random\n",
    "import skimage.io as io\n",
    "import matplotlib.pyplot as plt\n",
    "import matplotlib.patches as patches\n",
    "import pylab\n",
    "import tensorflow as tf\n",
    "# import cv2\n",
    "pylab.rcParams['figure.figsize'] = (10.0, 8.0)"
   ]
  },
  {
   "cell_type": "code",
   "execution_count": 2,
   "metadata": {
    "collapsed": false
   },
   "outputs": [
    {
     "name": "stdout",
     "output_type": "stream",
     "text": [
      "/Users/kyle/Repositories/coco/annotations/person_keypoints_train2014.json\n",
      "/Users/kyle/Repositories/coco/annotations/person_keypoints_val2014.json\n",
      "/Users/kyle/Repositories/coco/annotations/image_info_test-dev2015.json\n",
      "/Users/kyle/Repositories/coco/images/person_keypoints_train2014\n",
      "/Users/kyle/Repositories/coco/images/person_keypoints_val2014\n",
      "/Users/kyle/Repositories/coco/images/image_info_test-dev2015\n",
      "loading annotations into memory...\n",
      "Done (t=6.64s)\n",
      "creating index...\n",
      "index created!\n"
     ]
    }
   ],
   "source": [
    "# define the path to the annotation file corresponding to the images you want to work with\n",
    "dataDir='/Users/kyle/Repositories/coco'\n",
    "trainData='person_keypoints_train2014'\n",
    "valData='person_keypoints_val2014'\n",
    "testData='image_info_test-dev2015'\n",
    "\n",
    "annTrainFile='{}/annotations/{}.json'.format(dataDir,trainData)\n",
    "annValFile='{}/annotations/{}.json'.format(dataDir,valData)\n",
    "annTestFile='{}/annotations/{}.json'.format(dataDir,testData)\n",
    "\n",
    "imageTrainFolder='{}/images/{}'.format(dataDir,trainData)\n",
    "imageValFolder='{}/images/{}'.format(dataDir,valData)\n",
    "imageTestFolder='{}/images/{}'.format(dataDir,testData)\n",
    "\n",
    "print(annTrainFile)\n",
    "print(annValFile)\n",
    "print(annTestFile)\n",
    "print(imageTrainFolder)\n",
    "print(imageValFolder)\n",
    "print(imageTestFolder)\n",
    "\n",
    "# initialize a coco object\n",
    "coco = COCO(annTrainFile)\n",
    "\n",
    "# get all images containing the 'person' category\n",
    "catIds = coco.getCatIds(catNms=['person'])\n",
    "imgIds = coco.getImgIds(catIds=catIds)\n",
    "\n",
    "catIds = imgIds[0:30]\n",
    "imgIds = imgIds[0:30]"
   ]
  },
  {
   "cell_type": "code",
   "execution_count": 3,
   "metadata": {
    "collapsed": false
   },
   "outputs": [],
   "source": [
    "# Initialize dataset\n",
    "\n",
    "baseDir = '/Users/kyle/Repositories/coco'\n",
    "imageTrainDir = 'train2014'\n",
    "annTrainDir = 'person_keypoints_val2014'\n",
    "imagePath = '{}/images/{}'.format(baseDir,imageTrainDir)\n",
    "annPath = '{}/annotations/{}'.format(baseDir,annTrainDir)\n",
    "\n",
    "\n",
    "filenames = tf.constant(['{}/COCO_train2014_{:0>12}.jpg'.format(imagePath,img_ID) for img_ID in imgIds])\n",
    "imgID_tensor = tf.constant(imgIds)\n",
    "\n",
    "precision = tf.float32"
   ]
  },
  {
   "cell_type": "code",
   "execution_count": 4,
   "metadata": {
    "collapsed": false
   },
   "outputs": [],
   "source": [
    "def extract_annotations(filename, imgID, coco=coco):\n",
    "    anns = coco.loadAnns(coco.getAnnIds(imgID,catIds=[1],iscrowd=None))\n",
    "    ann = max([ann for ann in anns], key=lambda item:item['area']) # extract annotation for biggest instance\n",
    "    bbox = np.array(np.floor(ann['bbox']),dtype=int)\n",
    "    keypoints = np.reshape(ann['keypoints'],(-1,3))\n",
    "    mask = coco.annToMask(ann)\n",
    "    \n",
    "    return filename, bbox, keypoints, mask"
   ]
  },
  {
   "cell_type": "code",
   "execution_count": 5,
   "metadata": {
    "collapsed": false
   },
   "outputs": [],
   "source": [
    "def resize_image_tf(filename, bbox_tensor, keypoints_tensor, mask, D = tf.constant(224.0)):\n",
    "    image_string = tf.read_file(filename)\n",
    "    image_decoded = tf.image.decode_jpeg(image_string, channels=0)\n",
    "    image = tf.cast(image_decoded, tf.float32)\n",
    "\n",
    "    mask = tf.transpose([mask],[1,2,0])\n",
    "    bbox_tensor = tf.to_float(bbox_tensor)\n",
    "    keypoints_tensor = tf.to_float(keypoints_tensor)\n",
    "\n",
    "    sideLength = tf.reduce_max(bbox_tensor[2:],axis=0)\n",
    "    centerX = tf.floor(bbox_tensor[0] + tf.divide(bbox_tensor[2],tf.constant(2.0)))\n",
    "    centerY = tf.floor(bbox_tensor[1] + tf.divide(bbox_tensor[3],tf.constant(2.0)))\n",
    "    center = tf.stack([centerX,centerY])\n",
    "\n",
    "    corner1 = tf.to_int32(tf.minimum(tf.maximum(tf.subtract(center, tf.divide(sideLength,tf.constant(2.0))),0),\n",
    "                         tf.reverse(tf.to_float(tf.shape(image)[:2]),tf.constant([0]))))\n",
    "    corner2 = tf.to_int32(tf.minimum(tf.maximum(tf.add(center, tf.divide(sideLength,tf.constant(2.0))),0),\n",
    "                         tf.reverse(tf.to_float(tf.shape(image)[:2]),tf.constant([0]))))\n",
    "    i_shape = tf.subtract(corner2,corner1)\n",
    "    d_shape = tf.subtract(tf.to_int32(sideLength),i_shape)\n",
    "\n",
    "    scale = tf.divide(D, sideLength)\n",
    "\n",
    "    cropped_image = tf.image.crop_to_bounding_box(image,corner1[1],corner1[0],\n",
    "                                                  tf.subtract(corner2,corner1)[1],tf.subtract(corner2,corner1)[0])\n",
    "    cropped_mask = tf.image.crop_to_bounding_box(mask,corner1[1],corner1[0],\n",
    "                                                  tf.subtract(corner2,corner1)[1],tf.subtract(corner2,corner1)[0])\n",
    "\n",
    "    dX = tf.floor(tf.divide(d_shape,tf.constant(2)))\n",
    "    dY = tf.ceil(tf.divide(d_shape,tf.constant(2)))\n",
    "\n",
    "    pts, labels = tf.split(keypoints_tensor,[2,1],axis=1)\n",
    "    pts = tf.subtract(pts,tf.to_float(corner1)) # shift keypoints\n",
    "    pts = tf.add(pts,tf.to_float(dX)) # shift keypoints\n",
    "    pts = tf.multiply(pts,scale) # scale keypoints\n",
    "    \n",
    "    # set invalid pts to 0\n",
    "    inbounds = tf.less(pts,D)\n",
    "    inbounds = tf.multiply(tf.to_int32(inbounds), tf.to_int32(tf.greater(pts,0)))\n",
    "    pts = tf.multiply(pts,tf.to_float(inbounds))\n",
    "\n",
    "    padded_image = tf.image.pad_to_bounding_box(cropped_image,tf.to_int32(dX[1]),tf.to_int32(dX[0]),\n",
    "                                                tf.to_int32(sideLength),tf.to_int32(sideLength))\n",
    "    padded_mask = tf.image.pad_to_bounding_box(cropped_mask,tf.to_int32(dX[1]),tf.to_int32(dX[0]),\n",
    "                                                tf.to_int32(sideLength),tf.to_int32(sideLength))\n",
    "\n",
    "    resized_image = tf.image.resize_images(padded_image,tf.constant([224,224]),tf.image.ResizeMethod.NEAREST_NEIGHBOR)\n",
    "    resized_mask = tf.image.resize_images(padded_mask,tf.constant([224,224]),tf.image.ResizeMethod.NEAREST_NEIGHBOR)\n",
    "\n",
    "    return resized_image , resized_mask, pts, labels\n"
   ]
  },
  {
   "cell_type": "code",
   "execution_count": 6,
   "metadata": {
    "collapsed": false
   },
   "outputs": [
    {
     "data": {
      "text/plain": [
       "<MapDataset shapes: ((224, 224, ?), (224, 224, ?), <unknown>, <unknown>), types: (tf.float32, tf.uint8, tf.float32, tf.float32)>"
      ]
     },
     "execution_count": 6,
     "metadata": {},
     "output_type": "execute_result"
    }
   ],
   "source": [
    "myDataset = tf.contrib.data.Dataset.from_tensor_slices((filenames,imgID_tensor))\n",
    "\n",
    "# Extract Annotations via coco interface\n",
    "myDataset = myDataset.map(lambda filename, imgID: tf.py_func(extract_annotations, [filename, imgID], \n",
    "                                                             [filename.dtype, tf.int64, tf.int64, tf.uint8]))\n",
    "\n",
    "# All other preprocessing in tensorflow\n",
    "myDataset = myDataset.map(resize_image_tf)\n",
    "myDataset"
   ]
  },
  {
   "cell_type": "code",
   "execution_count": 7,
   "metadata": {
    "collapsed": false,
    "scrolled": false
   },
   "outputs": [
    {
     "data": {
      "text/plain": [
       "<BatchDataset shapes: ((?, 224, 224, ?), (?, 224, 224, ?), <unknown>, <unknown>), types: (tf.float32, tf.uint8, tf.float32, tf.float32)>"
      ]
     },
     "execution_count": 7,
     "metadata": {},
     "output_type": "execute_result"
    }
   ],
   "source": [
    "# BATCH\n",
    "myDataset = myDataset.shuffle(buffer_size=10000)\n",
    "myDataset = myDataset.batch(10) # must resize images to make them match\n",
    "\n",
    "# iterator = myDataset.make_one_shot_iterator()\n",
    "# iterator = batched_Dataset.make_one_shot_iterator()\n",
    "# next_element = iterator.get_next()\n",
    "# myDataset\n",
    "\n",
    "iterator = tf.contrib.data.Iterator.from_structure(myDataset.output_types,\n",
    "                                                   myDataset.output_shapes)\n",
    "# resized_image, resized_mask, pts, labels = iterator.get_next()\n",
    "next_element = iterator.get_next()\n",
    "\n",
    "train_init_op = iterator.make_initializer(myDataset)\n",
    "myDataset"
   ]
  },
  {
   "cell_type": "code",
   "execution_count": 8,
   "metadata": {
    "collapsed": false
   },
   "outputs": [],
   "source": [
    "sess = tf.Session()\n",
    "sess.run(train_init_op)"
   ]
  },
  {
   "cell_type": "code",
   "execution_count": 9,
   "metadata": {
    "collapsed": false
   },
   "outputs": [
    {
     "data": {
      "text/plain": [
       "<matplotlib.collections.PathCollection at 0x11bc71a58>"
      ]
     },
     "execution_count": 9,
     "metadata": {},
     "output_type": "execute_result"
    },
    {
     "data": {
      "image/png": "[encoded data removed]",
      "text/plain": [
       "<matplotlib.figure.Figure at 0x10d5d1320>"
      ]
     },
     "metadata": {},
     "output_type": "display_data"
    }
   ],
   "source": [
    "# resized_image, resized_mask, pts, labels = sess.run(next_element)\n",
    "\n",
    "resized_image, resized_mask, pts, labels = sess.run(next_element)\n",
    "\n",
    "plt.imshow(resized_image[0])\n",
    "plt.imshow(resized_mask[0][:,:,0],alpha=0.5)\n",
    "plt.scatter(pts[0][(np.reshape(labels[0],-1)==2),0],pts[0][(np.reshape(labels[0],-1)==2),1],c=\"r\")"
   ]
  },
  {
   "cell_type": "code",
   "execution_count": null,
   "metadata": {
    "collapsed": true
   },
   "outputs": [],
   "source": [
    "# sess = tf.InteractiveSession()"
   ]
  },
  {
   "cell_type": "code",
   "execution_count": null,
   "metadata": {
    "collapsed": false
   },
   "outputs": [],
   "source": [
    "D = tf.constant(224.0)\n",
    "\n",
    "imgID = imgIds[5]\n",
    "\n",
    "filename = tf.constant('{}/COCO_train2014_{:0>12}.jpg'.format(imagePath,imgID))\n",
    "image_string = tf.read_file(filename)\n",
    "image_decoded = tf.image.decode_jpeg(image_string, channels=0)          # (1)\n",
    "image = tf.cast(image_decoded, tf.float32)\n",
    "\n",
    "# npimage = image.eval()\n",
    "\n",
    "anns = coco.loadAnns(coco.getAnnIds(imgID,catIds=[1],iscrowd=None))\n",
    "ann = max([ann for ann in anns], key=lambda item:item['area']) # extract annotation for biggest instance\n",
    "mask = tf.constant(coco.annToMask(ann))\n",
    "mask = tf.transpose([mask],[1,2,0])\n",
    "\n",
    "bbox_tensor = tf.constant(np.array(np.floor(ann['bbox'])),dtype=tf.float32)\n",
    "keypoints_tensor = tf.constant(np.reshape(ann['keypoints'],(-1,3)),dtype=tf.float32)\n",
    "\n",
    "sideLength = tf.reduce_max(bbox_tensor[2:],axis=0)\n",
    "centerX = tf.floor(bbox_tensor[0] + tf.divide(bbox_tensor[2],2.0))\n",
    "centerY = tf.floor(bbox_tensor[1] + tf.divide(bbox_tensor[3],2.0))\n",
    "center = tf.stack([centerX,centerY])\n",
    "\n",
    "corner1 = tf.to_int32(tf.minimum(tf.maximum(tf.subtract(center,tf.divide(sideLength,2.0)),0),\n",
    "                     tf.reverse(tf.to_float(tf.shape(image)[:2]),tf.constant([0]))))\n",
    "corner2 = tf.to_int32(tf.minimum(tf.maximum(tf.add(center,tf.divide(sideLength,2.0)),0),\n",
    "                     tf.reverse(tf.to_float(tf.shape(image)[:2]),tf.constant([0]))))\n",
    "i_shape = tf.subtract(corner2,corner1)\n",
    "d_shape = tf.subtract(tf.to_int32(sideLength),i_shape)\n",
    "\n",
    "scale = tf.divide(D, sideLength)\n",
    "\n",
    "cropped_image = tf.image.crop_to_bounding_box(image,corner1[1],corner1[0],\n",
    "                                              tf.subtract(corner2,corner1)[1],tf.subtract(corner2,corner1)[0])\n",
    "cropped_mask = tf.image.crop_to_bounding_box(mask,corner1[1],corner1[0],\n",
    "                                              tf.subtract(corner2,corner1)[1],tf.subtract(corner2,corner1)[0])\n",
    "\n",
    "# dX = np.floor(d_shape/2.0).astype(int)\n",
    "dX = tf.floor(tf.divide(d_shape,tf.constant(2)))\n",
    "dY = tf.ceil(tf.divide(d_shape,tf.constant(2)))\n",
    "\n",
    "# inbounds = (keypoints[:,0] >= 0)*(keypoints[:,0] <= sideLength)*(keypoints[:,1] >= 0)*(keypoints[:,1] <= sideLength)\n",
    "pts, labels = tf.split(keypoints_tensor,[2,1],axis=1)\n",
    "pts = tf.subtract(pts,tf.to_float(corner1)) # shift keypoints\n",
    "pts = tf.multiply(pts,scale) # scale keypoints\n",
    "inbounds = tf.less(pts,D)\n",
    "inbounds = tf.multiply(tf.to_int32(inbounds), tf.to_int32(tf.greater(pts,0)))\n",
    "pts = tf.multiply(pts,tf.to_float(inbounds))\n",
    "\n",
    "padded_image = tf.image.pad_to_bounding_box(cropped_image,tf.to_int32(dX[1]),tf.to_int32(dX[0]),\n",
    "                                            tf.to_int32(sideLength),tf.to_int32(sideLength))\n",
    "padded_mask = tf.image.pad_to_bounding_box(cropped_mask,tf.to_int32(dX[1]),tf.to_int32(dX[0]),\n",
    "                                            tf.to_int32(sideLength),tf.to_int32(sideLength))\n",
    "\n",
    "resized_image = tf.image.resize_images(padded_image,tf.constant([224,224]),tf.image.ResizeMethod.NEAREST_NEIGHBOR)\n",
    "resized_mask = tf.image.resize_images(padded_mask,tf.constant([224,224]),tf.image.ResizeMethod.NEAREST_NEIGHBOR)\n",
    "\n",
    "\n",
    "kpts = pts.eval()\n",
    "labels = labels.eval()\n",
    "I = resized_image.eval()\n",
    "mask = resized_mask.eval()\n",
    "plt.imshow(I)\n",
    "plt.imshow(mask[:,:,0],alpha=0.25)\n",
    "plt.scatter(kpts[(np.reshape(labels,-1)==2),0],pts.eval()[(np.reshape(labels,-1)==2),1],c=\"r\")\n"
   ]
  },
  {
   "cell_type": "code",
   "execution_count": null,
   "metadata": {
    "collapsed": true
   },
   "outputs": [],
   "source": [
    "def extract_square_image(image, imgID, coco=coco, D=224.0):\n",
    "    anns = coco.loadAnns(coco.getAnnIds(imgID,catIds=[1],iscrowd=None))\n",
    "    ann = max([ann for ann in anns], key=lambda item:item['area']) # extract annotation for biggest instance\n",
    "    bbox = np.array(np.floor(ann['bbox']),dtype=int)\n",
    "    mask = coco.annToMask(ann)\n",
    "\n",
    "    sideLength = np.max(bbox[2:]) # largest side\n",
    "    center = (np.floor(bbox[0]+bbox[2]/2.0), np.floor(bbox[1]+bbox[3]/2.0))\n",
    "    corner1 = np.minimum(np.maximum(np.array(center - sideLength/2.0,dtype=int), 0), np.flip(image.shape[:2],axis=0))\n",
    "    corner2 = np.minimum(np.maximum(np.array(center + sideLength/2.0,dtype=int), 0), np.flip(image.shape[:2],axis=0))\n",
    "    i_shape = corner2 - corner1\n",
    "    d_shape = sideLength - i_shape\n",
    "    scale = np.array(D/sideLength, dtype=float)\n",
    "    \n",
    "    cropped_image = image[corner1[1]:corner2[1], corner1[0]:corner2[0],:]\n",
    "    cropped_mask = mask[corner1[1]:corner2[1], corner1[0]:corner2[0]]\n",
    "    \n",
    "    dX = np.floor(d_shape/2.0).astype(int)\n",
    "    dY = np.ceil(d_shape/2.0).astype(int)\n",
    "    keypoints = np.reshape(ann['keypoints'],(-1,3)) - np.array([corner1[0]-dX[0],corner1[1]-dX[1],0])\n",
    "    inbounds = (keypoints[:,0] >= 0)*(keypoints[:,0] <= sideLength)*(keypoints[:,1] >= 0)*(keypoints[:,1] <= sideLength)\n",
    "    keypoints[inbounds == 0,2] = 2\n",
    "    keypoints[inbounds == 0,0] = 0\n",
    "    keypoints[inbounds == 0,1] = 0\n",
    "    \n",
    "    padded_image = np.dstack([np.lib.pad(\n",
    "                cropped_image[:,:,i],((dX[1],dY[1]),\n",
    "                                      (dX[0],dY[0])),mode='constant') for i in range(3)])\n",
    "    padded_mask = np.lib.pad(cropped_mask,((dX[1],dY[1]),(dX[0],dY[0])),mode='constant')\n",
    "\n",
    "    return padded_image, padded_mask, keypoints, scale"
   ]
  },
  {
   "cell_type": "code",
   "execution_count": null,
   "metadata": {
    "collapsed": true
   },
   "outputs": [],
   "source": [
    "def resize_image(image, mask, keypoints, scale, D=224.0):\n",
    "    resized_image = tf.image.resize_images(image, [D, D],tf.image.ResizeMethod.NEAREST_NEIGHBOR)\n",
    "    resized_mask = tf.image.resize_images(mask, [D, D],tf.image.ResizeMethod.NEAREST_NEIGHBOR)\n",
    "\n",
    "    pts, labels = tf.split(keypoints_tensor,[2,1],axis=2)\n",
    "    pts = tf.multiply(pts,scale)\n",
    "    resized_keypoints = tf.concat([pts,labels],axis=2)\n",
    "    \n",
    "    return resized_image, resized_mask, resized_keypoints\n",
    "    \n",
    "    "
   ]
  },
  {
   "cell_type": "code",
   "execution_count": null,
   "metadata": {
    "collapsed": true
   },
   "outputs": [],
   "source": [
    "# def getImageTraining(filename, imgID, smallest_side=224.0):\n",
    "def getImageTraining(filename, bbox_tensor, keypoints_tensor, crowd_tensor, \n",
    "                     area_tensor, mask_tensor, smallest_side=224.0):\n",
    "    image_string = tf.read_file(filename)\n",
    "    image_decoded = tf.image.decode_jpeg(image_string, channels=0)          # (1)\n",
    "#     image = tf.cast(image_decoded, tf.float32)\n",
    "    image = image_decoded\n",
    "\n",
    "    smallest_side = 224.0\n",
    "    height, width = tf.shape(image)[0], tf.shape(image)[1]\n",
    "    height = tf.to_float(height)\n",
    "    width = tf.to_float(width)\n",
    "\n",
    "    scale = tf.cond(tf.greater(height, width),\n",
    "                    lambda: smallest_side / width,\n",
    "                    lambda: smallest_side / height)\n",
    "    new_height = tf.maximum(tf.to_int32(height * scale), tf.to_int32(smallest_side))\n",
    "    new_width = tf.maximum(tf.to_int32(width * scale), tf.to_int32(smallest_side))\n",
    "\n",
    "    resized_image = tf.image.resize_images(image, [new_height, new_width],tf.image.ResizeMethod.NEAREST_NEIGHBOR)  # (2)\n",
    "    \n",
    "    # resize label tensors:\n",
    "    bbox_tensor = tf.multiply(bbox_tensor,scale)\n",
    "    pts, labels = tf.split(keypoints_tensor,[2,1],axis=2)\n",
    "    pts = tf.multiply(pts,scale)\n",
    "    keypoints_tensor = tf.concat([pts,labels],axis=2)\n",
    "    area_tensor = area_tensor*scale*scale\n",
    "    mask_tensor = tf.transpose(mask_tensor,[1,2,3,0])\n",
    "    mask_tensor = tf.image.resize_images(mask_tensor, [new_height, new_width],tf.image.ResizeMethod.NEAREST_NEIGHBOR)\n",
    "    \n",
    "    return resized_image, bbox_tensor, keypoints_tensor, crowd_tensor, area_tensor, mask_tensor"
   ]
  },
  {
   "cell_type": "code",
   "execution_count": null,
   "metadata": {
    "collapsed": false
   },
   "outputs": [],
   "source": [
    "# load and display image\n",
    "# img = coco.loadImgs(imgIds[np.random.randint(0,len(imgIds))])[0] # select a random image\n",
    "img = coco.loadImgs(imgIds[2])[0] # select a random image\n",
    "anns = coco.loadAnns(coco.getAnnIds(img['id'],catIds=[1],iscrowd=None))\n",
    "ann = max([ann for ann in anns], key=lambda item:item['area']) # extract annotation for biggest instance\n",
    "bbox = np.array(np.floor(ann['bbox']),dtype=int)\n",
    "mask = coco.annToMask(ann)\n",
    "\n",
    "image = io.imread('http://mscoco.org/images/%d'%(img['id'])) # use url to load image\n",
    "padded_image, cropped_image, keypoints, mask, cropped_mask, padded_mask, scale = crop_to_largest_instance(image,img['id'])\n",
    "\n",
    "# Display image\n",
    "visualizeProcessedImage(image, cropped_image, padded_image, mask, cropped_mask, padded_mask, ann, keypoints, scale)"
   ]
  },
  {
   "cell_type": "code",
   "execution_count": null,
   "metadata": {
    "collapsed": false
   },
   "outputs": [],
   "source": [
    "def crop_to_largest_instance(image, imgID, coco=coco, D=224.0):\n",
    "    anns = coco.loadAnns(coco.getAnnIds(imgID,catIds=[1],iscrowd=None))\n",
    "    ann = max([ann for ann in anns], key=lambda item:item['area']) # extract annotation for biggest instance\n",
    "    bbox = np.array(np.floor(ann['bbox']),dtype=int)\n",
    "    mask = coco.annToMask(ann)\n",
    "\n",
    "    sideLength = np.max(bbox[2:]) # largest side\n",
    "    center = (np.floor(bbox[0]+bbox[2]/2.0), np.floor(bbox[1]+bbox[3]/2.0))\n",
    "    corner1 = np.minimum(np.maximum(np.array(center - sideLength/2.0,dtype=int), 0), np.flip(image.shape[:2],axis=0))\n",
    "    corner2 = np.minimum(np.maximum(np.array(center + sideLength/2.0,dtype=int), 0), np.flip(image.shape[:2],axis=0))\n",
    "    i_shape = corner2 - corner1\n",
    "    d_shape = sideLength - i_shape\n",
    "    scale = np.array(D/sideLength)\n",
    "    \n",
    "    cropped_image = image[corner1[1]:corner2[1], corner1[0]:corner2[0],:]\n",
    "    cropped_mask = mask[corner1[1]:corner2[1], corner1[0]:corner2[0]]\n",
    "    \n",
    "    dX = np.floor(d_shape/2.0).astype(int)\n",
    "    dY = np.ceil(d_shape/2.0).astype(int)\n",
    "    keypoints = np.reshape(ann['keypoints'],(-1,3)) - np.array([corner1[0]-dX[0],corner1[1]-dX[1],0])\n",
    "    inbounds = (keypoints[:,0] >= 0)*(keypoints[:,0] <= sideLength)*(keypoints[:,1] >= 0)*(keypoints[:,1] <= sideLength)\n",
    "    keypoints[inbounds == 0,2] = 2\n",
    "    keypoints[inbounds == 0,0] = 0\n",
    "    keypoints[inbounds == 0,1] = 0\n",
    "    \n",
    "    padded_image = np.dstack([np.lib.pad(\n",
    "                cropped_image[:,:,i],((dX[1],dY[1]),\n",
    "                                      (dX[0],dY[0])),mode='constant') for i in range(3)])\n",
    "    padded_mask = np.lib.pad(cropped_mask,((dX[1],dY[1]),(dX[0],dY[0])),mode='constant')\n",
    "\n",
    "    return padded_image, cropped_image, keypoints, mask, cropped_mask, padded_mask, scale"
   ]
  },
  {
   "cell_type": "code",
   "execution_count": null,
   "metadata": {
    "collapsed": true
   },
   "outputs": [],
   "source": [
    "def visualizeProcessedImage(image, cropped_image, padded_image, mask, cropped_mask, padded_mask, ann, keypoints, scale):\n",
    "    plt.figure(figsize=[16,10])\n",
    "    ax = plt.subplot(2,3,1)\n",
    "    ax.imshow(image)\n",
    "    bbox = ann['bbox']\n",
    "    ax.add_patch(patches.Rectangle((bbox[0],bbox[1]),bbox[2],bbox[3],fill=False,edgecolor=\"orange\"))\n",
    "\n",
    "    plt.subplot(2,3,2)\n",
    "    plt.imshow(cropped_image)\n",
    "\n",
    "    plt.subplot(2,3,3)\n",
    "    plt.imshow(padded_image)\n",
    "\n",
    "    plt.subplot(2,3,4)\n",
    "    plt.imshow(mask,alpha=.5)\n",
    "    \n",
    "    plt.subplot(2,3,5)\n",
    "    plt.imshow(cropped_mask)\n",
    "    \n",
    "    plt.subplot(2,3,6)\n",
    "    plt.imshow(padded_image)\n",
    "    plt.imshow(padded_mask,alpha=.5)\n",
    "    plt.scatter(keypoints[:,0],keypoints[:,1],c=\"r\")"
   ]
  },
  {
   "cell_type": "code",
   "execution_count": null,
   "metadata": {
    "collapsed": true
   },
   "outputs": [],
   "source": [
    "def load_image(filename, imgID):\n",
    "    image_string = tf.read_file(filename)\n",
    "    image_decoded = tf.image.decode_jpeg(image_string, channels=0)          # (1)\n",
    "    image = tf.cast(image_decoded, tf.float32)\n",
    "    \n",
    "    return image, imgID"
   ]
  },
  {
   "cell_type": "code",
   "execution_count": null,
   "metadata": {
    "collapsed": true
   },
   "outputs": [],
   "source": []
  }
 ],
 "metadata": {
  "kernelspec": {
   "display_name": "Python 3",
   "language": "python",
   "name": "python3"
  },
  "language_info": {
   "codemirror_mode": {
    "name": "ipython",
    "version": 3
   },
   "file_extension": ".py",
   "mimetype": "text/x-python",
   "name": "python",
   "nbconvert_exporter": "python",
   "pygments_lexer": "ipython3",
   "version": "3.5.3"
  }
 },
 "nbformat": 4,
 "nbformat_minor": 0
}
